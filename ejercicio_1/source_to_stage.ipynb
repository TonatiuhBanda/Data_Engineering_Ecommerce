{
 "cells": [
  {
   "cell_type": "code",
   "execution_count": 1,
   "metadata": {},
   "outputs": [],
   "source": [
    "import pandas as pd"
   ]
  },
  {
   "cell_type": "code",
   "execution_count": 2,
   "metadata": {},
   "outputs": [],
   "source": [
    "dir_archivo = \"/home/tonatiuh/Documents/Desarrollo/ZophiaLearning/datasets/\""
   ]
  },
  {
   "cell_type": "code",
   "execution_count": 3,
   "metadata": {},
   "outputs": [],
   "source": [
    "nombre_archivos = [\n",
    "    'detalle_categoria.csv',\n",
    "    'detalle_cliente.csv',\n",
    "    'detalle_productos.csv',\n",
    "    'detalle_sucursal.csv',\n",
    "    'ordenes.csv',\n",
    "    'productos.csv',\n",
    "    'hechos/hechos.csv']\n",
    "\n",
    "nombre_archivo = nombre_archivos[0]"
   ]
  },
  {
   "cell_type": "markdown",
   "metadata": {},
   "source": [
    "### Tablas"
   ]
  },
  {
   "cell_type": "code",
   "execution_count": 4,
   "metadata": {},
   "outputs": [],
   "source": [
    "for item in range(len(nombre_archivos)-1):\n",
    "    nombre_archivo = nombre_archivos[item]\n",
    "    df = pd.read_csv(dir_archivo+f'ecommerce/{nombre_archivo}', delimiter='|')\n",
    "    \n",
    "    dir_destino = \"/home/tonatiuh/Documents/Desarrollo/ZophiaLearning/ejercicios/\"\n",
    "    nombre_destino = f\"ecommerce/stage/{nombre_archivo.replace('.csv','')}.parquet\"\n",
    "    \n",
    "    df.to_parquet(dir_destino+nombre_destino)"
   ]
  },
  {
   "cell_type": "markdown",
   "metadata": {},
   "source": [
    "### Tabla hechos"
   ]
  },
  {
   "cell_type": "code",
   "execution_count": 5,
   "metadata": {},
   "outputs": [],
   "source": [
    "nombre_archivo = nombre_archivos[6]\n",
    "df = pd.read_csv(dir_archivo+f'ecommerce/{nombre_archivo}', delimiter='|')\n",
    "df = df.rename(columns={'categoria ':'categoria'})"
   ]
  },
  {
   "cell_type": "code",
   "execution_count": 6,
   "metadata": {},
   "outputs": [
    {
     "data": {
      "text/html": [
       "<div>\n",
       "<style scoped>\n",
       "    .dataframe tbody tr th:only-of-type {\n",
       "        vertical-align: middle;\n",
       "    }\n",
       "\n",
       "    .dataframe tbody tr th {\n",
       "        vertical-align: top;\n",
       "    }\n",
       "\n",
       "    .dataframe thead th {\n",
       "        text-align: right;\n",
       "    }\n",
       "</style>\n",
       "<table border=\"1\" class=\"dataframe\">\n",
       "  <thead>\n",
       "    <tr style=\"text-align: right;\">\n",
       "      <th></th>\n",
       "      <th>orden_id</th>\n",
       "      <th>sucursal_id</th>\n",
       "      <th>cliente_id</th>\n",
       "      <th>sku</th>\n",
       "      <th>cantidad</th>\n",
       "      <th>precio</th>\n",
       "      <th>fecha_orden</th>\n",
       "      <th>fecha_envio</th>\n",
       "      <th>fecha_entrega</th>\n",
       "      <th>sucursal</th>\n",
       "      <th>...</th>\n",
       "      <th>escala</th>\n",
       "      <th>escala_min</th>\n",
       "      <th>escala_max</th>\n",
       "      <th>precio_escala</th>\n",
       "      <th>categoria_id</th>\n",
       "      <th>stock</th>\n",
       "      <th>marca</th>\n",
       "      <th>modelo</th>\n",
       "      <th>year</th>\n",
       "      <th>categoria</th>\n",
       "    </tr>\n",
       "  </thead>\n",
       "  <tbody>\n",
       "    <tr>\n",
       "      <th>0</th>\n",
       "      <td>ORD99lA8w0xMR</td>\n",
       "      <td>C-50PO</td>\n",
       "      <td>C-05fD</td>\n",
       "      <td>i181F9</td>\n",
       "      <td>72</td>\n",
       "      <td>4520.84</td>\n",
       "      <td>2017-03-03</td>\n",
       "      <td>2017-03-06</td>\n",
       "      <td>2017-03-05</td>\n",
       "      <td>MOR-FNQ</td>\n",
       "      <td>...</td>\n",
       "      <td>51 - 75</td>\n",
       "      <td>51</td>\n",
       "      <td>75</td>\n",
       "      <td>4520.84</td>\n",
       "      <td>p-63G</td>\n",
       "      <td>5528</td>\n",
       "      <td>Audi</td>\n",
       "      <td>Sephia</td>\n",
       "      <td>2008</td>\n",
       "      <td>Coupe, Sedan</td>\n",
       "    </tr>\n",
       "    <tr>\n",
       "      <th>1</th>\n",
       "      <td>ORD99lA8w0xMR</td>\n",
       "      <td>C-50PO</td>\n",
       "      <td>C-05fD</td>\n",
       "      <td>u106N4</td>\n",
       "      <td>23</td>\n",
       "      <td>4848.85</td>\n",
       "      <td>2017-03-03</td>\n",
       "      <td>2017-03-06</td>\n",
       "      <td>2017-03-05</td>\n",
       "      <td>MOR-FNQ</td>\n",
       "      <td>...</td>\n",
       "      <td>1 - 25</td>\n",
       "      <td>1</td>\n",
       "      <td>25</td>\n",
       "      <td>4848.85</td>\n",
       "      <td>P-54g</td>\n",
       "      <td>3132</td>\n",
       "      <td>Geo</td>\n",
       "      <td>Colorado Regular Cab</td>\n",
       "      <td>2017</td>\n",
       "      <td>Convertible, Sedan</td>\n",
       "    </tr>\n",
       "    <tr>\n",
       "      <th>2</th>\n",
       "      <td>ORD99lA8w0xMR</td>\n",
       "      <td>C-50PO</td>\n",
       "      <td>C-05fD</td>\n",
       "      <td>A461V6</td>\n",
       "      <td>6</td>\n",
       "      <td>5554.87</td>\n",
       "      <td>2017-03-03</td>\n",
       "      <td>2017-03-06</td>\n",
       "      <td>2017-03-05</td>\n",
       "      <td>MOR-FNQ</td>\n",
       "      <td>...</td>\n",
       "      <td>1 - 25</td>\n",
       "      <td>1</td>\n",
       "      <td>25</td>\n",
       "      <td>5554.87</td>\n",
       "      <td>U-19r</td>\n",
       "      <td>9342</td>\n",
       "      <td>GMC</td>\n",
       "      <td>Savana 2500 Cargo</td>\n",
       "      <td>1995</td>\n",
       "      <td>Wagon, Sedan</td>\n",
       "    </tr>\n",
       "  </tbody>\n",
       "</table>\n",
       "<p>3 rows × 32 columns</p>\n",
       "</div>"
      ],
      "text/plain": [
       "        orden_id sucursal_id cliente_id     sku  cantidad   precio  \\\n",
       "0  ORD99lA8w0xMR      C-50PO     C-05fD  i181F9        72  4520.84   \n",
       "1  ORD99lA8w0xMR      C-50PO     C-05fD  u106N4        23  4848.85   \n",
       "2  ORD99lA8w0xMR      C-50PO     C-05fD  A461V6         6  5554.87   \n",
       "\n",
       "  fecha_orden fecha_envio fecha_entrega sucursal  ...   escala escala_min  \\\n",
       "0  2017-03-03  2017-03-06    2017-03-05  MOR-FNQ  ...  51 - 75         51   \n",
       "1  2017-03-03  2017-03-06    2017-03-05  MOR-FNQ  ...   1 - 25          1   \n",
       "2  2017-03-03  2017-03-06    2017-03-05  MOR-FNQ  ...   1 - 25          1   \n",
       "\n",
       "  escala_max precio_escala categoria_id stock marca                modelo  \\\n",
       "0         75       4520.84        p-63G  5528  Audi                Sephia   \n",
       "1         25       4848.85        P-54g  3132   Geo  Colorado Regular Cab   \n",
       "2         25       5554.87        U-19r  9342   GMC     Savana 2500 Cargo   \n",
       "\n",
       "   year           categoria  \n",
       "0  2008        Coupe, Sedan  \n",
       "1  2017  Convertible, Sedan  \n",
       "2  1995        Wagon, Sedan  \n",
       "\n",
       "[3 rows x 32 columns]"
      ]
     },
     "execution_count": 6,
     "metadata": {},
     "output_type": "execute_result"
    }
   ],
   "source": [
    "df.head(3)"
   ]
  },
  {
   "cell_type": "code",
   "execution_count": 7,
   "metadata": {},
   "outputs": [],
   "source": [
    "dir_destino = \"/home/tonatiuh/Documents/Desarrollo/ZophiaLearning/ejercicios/\"\n",
    "\n",
    "if nombre_archivo == 'hechos/hechos.csv':\n",
    "    nombre_archivo = nombre_archivo[7:]\n",
    "\n",
    "nombre_destino = f\"ecommerce/stage/{nombre_archivo.replace('.csv','')}.parquet\"\n",
    "\n",
    "df.to_parquet(dir_destino+nombre_destino)"
   ]
  }
 ],
 "metadata": {
  "kernelspec": {
   "display_name": "Python 3",
   "language": "python",
   "name": "python3"
  },
  "language_info": {
   "codemirror_mode": {
    "name": "ipython",
    "version": 3
   },
   "file_extension": ".py",
   "mimetype": "text/x-python",
   "name": "python",
   "nbconvert_exporter": "python",
   "pygments_lexer": "ipython3",
   "version": "3.7.6"
  }
 },
 "nbformat": 4,
 "nbformat_minor": 4
}
