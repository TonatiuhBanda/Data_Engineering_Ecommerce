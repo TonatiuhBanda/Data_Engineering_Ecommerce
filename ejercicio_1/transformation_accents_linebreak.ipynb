{
 "cells": [
  {
   "cell_type": "code",
   "execution_count": 1,
   "metadata": {},
   "outputs": [],
   "source": [
    "from pyspark.sql import SparkSession\n",
    "from pyspark.context import SparkContext\n",
    "import pyspark.sql.functions as F\n",
    "from pyspark.sql.types import *"
   ]
  },
  {
   "cell_type": "code",
   "execution_count": 2,
   "metadata": {},
   "outputs": [],
   "source": [
    "sc = SparkContext.getOrCreate()\n",
    "spark = SparkSession(sc)"
   ]
  },
  {
   "cell_type": "markdown",
   "metadata": {},
   "source": [
    "### Limpieza de acentos y saltos de línea"
   ]
  },
  {
   "cell_type": "code",
   "execution_count": 3,
   "metadata": {},
   "outputs": [],
   "source": [
    "dir_archivo = \"/home/tonatiuh/Documents/Desarrollo/ZophiaLearning/ejercicios/\""
   ]
  },
  {
   "cell_type": "code",
   "execution_count": 4,
   "metadata": {},
   "outputs": [],
   "source": [
    "nombre_archivos = [\n",
    "    'detalle_categoria.parquet',\n",
    "    'detalle_cliente.parquet',\n",
    "    'detalle_productos.parquet',\n",
    "    'detalle_sucursal.parquet',\n",
    "    'ordenes.parquet',\n",
    "    'productos.parquet',\n",
    "    'hechos.parquet']"
   ]
  },
  {
   "cell_type": "code",
   "execution_count": 5,
   "metadata": {},
   "outputs": [],
   "source": [
    "letras_acento = 'áéíóúÁÉÍÓÚ'\n",
    "letras_sin_acento = 'aeiouAEIOU'\n",
    "tabla_acentos = str.maketrans(letras_acento, letras_sin_acento)\n",
    "\n",
    "for archivo in nombre_archivos:\n",
    "    nombre_archivo = f\"ecommerce/stage/{archivo}\"\n",
    "    df = spark.read.format(\"parquet\")\\\n",
    "            .load(dir_archivo+nombre_archivo)\n",
    "\n",
    "    for col_nombre in df.columns:\n",
    "        df = df.withColumn(col_nombre, F.translate(col_nombre,\n",
    "                                                   letras_acento,\n",
    "                                                   letras_sin_acento))\n",
    "        df = df.withColumn(col_nombre, F.translate(col_nombre, '\\n', ''))\n",
    "        df = df.withColumnRenamed(col_nombre, col_nombre.translate(tabla_acentos))\n",
    "\n",
    "    nombre_destino = f\"ecommerce/curated/{archivo}\"\n",
    "    df.write.mode('overwrite').parquet(dir_archivo+nombre_destino)"
   ]
  },
  {
   "cell_type": "code",
   "execution_count": 6,
   "metadata": {},
   "outputs": [],
   "source": [
    "#df.show(n=3)\n",
    "#df.show(n=2, vertical=True, truncate=False)"
   ]
  }
 ],
 "metadata": {
  "kernelspec": {
   "display_name": "Python 3",
   "language": "python",
   "name": "python3"
  },
  "language_info": {
   "codemirror_mode": {
    "name": "ipython",
    "version": 3
   },
   "file_extension": ".py",
   "mimetype": "text/x-python",
   "name": "python",
   "nbconvert_exporter": "python",
   "pygments_lexer": "ipython3",
   "version": "3.7.6"
  }
 },
 "nbformat": 4,
 "nbformat_minor": 4
}
