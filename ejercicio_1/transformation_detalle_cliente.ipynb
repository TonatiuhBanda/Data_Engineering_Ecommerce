{
 "cells": [
  {
   "cell_type": "code",
   "execution_count": 1,
   "metadata": {},
   "outputs": [],
   "source": [
    "from pyspark.sql import SparkSession\n",
    "from pyspark.context import SparkContext\n",
    "import pyspark.sql.functions as F\n",
    "from pyspark.sql.types import *"
   ]
  },
  {
   "cell_type": "code",
   "execution_count": 2,
   "metadata": {},
   "outputs": [],
   "source": [
    "sc = SparkContext.getOrCreate()\n",
    "spark = SparkSession(sc)"
   ]
  },
  {
   "cell_type": "markdown",
   "metadata": {},
   "source": [
    "### Tabla detalle cliente"
   ]
  },
  {
   "cell_type": "code",
   "execution_count": 3,
   "metadata": {},
   "outputs": [],
   "source": [
    "dir_archivo = \"/home/tonatiuh/Documents/Desarrollo/ZophiaLearning/ejercicios/\"\n",
    "nombre_archivo = 'ecommerce/curated/detalle_cliente.parquet'"
   ]
  },
  {
   "cell_type": "code",
   "execution_count": 4,
   "metadata": {},
   "outputs": [],
   "source": [
    "df = spark.read.format(\"parquet\")\\\n",
    "        .load(dir_archivo+nombre_archivo)"
   ]
  },
  {
   "cell_type": "code",
   "execution_count": 5,
   "metadata": {},
   "outputs": [
    {
     "name": "stdout",
     "output_type": "stream",
     "text": [
      "+----------------------------------------------------------------------------------------+\n",
      "|direccion                                                                               |\n",
      "+----------------------------------------------------------------------------------------+\n",
      "|Pasaje Sur Hinojosa 546 Interior 968Vieja Myanmar, OAX 06497                            |\n",
      "|Prolongacion Norte Guillen 815 833San Vicente de la Montaña, TAMPS 44107                |\n",
      "|Avenida Norte Lozano 005 Edif. 213 , Depto. 580San Pascual de la Montaña, MEX 11015-7667|\n",
      "|Ampliacion Cortes 072 Edif. 362 , Depto. 032Nueva Belarus, DGO 36879                    |\n",
      "|Eje vial Republica Centroafricana 816 Interior 150San Gustavo los altos, SIN 75788-3053 |\n",
      "|Retorno Veracruz de Ignacio de la Llave 424 Interior 386Nueva Tailandia, BCS 49534      |\n",
      "|Calle Fernandez 479 Interior 434Nueva Etiopia, Q. ROO 93717-4366                        |\n",
      "|Circunvalacion Hungria 372 350Vieja Iran, SIN 08028                                     |\n",
      "|Diagonal Yucatan 244 Interior 940Nueva ex Republica Yugoslava de Macedonia, VER 16517   |\n",
      "|Callejon Sonora 840 Edif. 500 , Depto. 035Nueva Eritrea, BCS 99258                      |\n",
      "+----------------------------------------------------------------------------------------+\n",
      "only showing top 10 rows\n",
      "\n"
     ]
    }
   ],
   "source": [
    "df.select('direccion').show(n=10, truncate=False)"
   ]
  },
  {
   "cell_type": "markdown",
   "metadata": {},
   "source": [
    "#### Direccion"
   ]
  },
  {
   "cell_type": "code",
   "execution_count": 6,
   "metadata": {},
   "outputs": [],
   "source": [
    "df_procesado = df.withColumn('direccion_split', F.split(F.col('direccion'), ','))\n",
    "df_procesado = df_procesado.withColumn('numero_elementos', F.size(F.col('direccion_split')))\n",
    "\n",
    "df_procesado = df_procesado.withColumn('estado_cp', F.col('direccion_split').getItem(F.col('numero_elementos') - 1 ))\n",
    "df_procesado = df_procesado.withColumn('estado_cp', F.trim(F.col('estado_cp')))\n",
    "\n",
    "df_procesado = df_procesado.withColumn('estado_cp_split', F.split(F.col('estado_cp'), ' '))\n",
    "df_procesado = df_procesado.withColumn('numero_elementos_estado', F.size(F.col('estado_cp_split')))\n",
    "df_procesado = df_procesado.withColumn('codigo_postal', F.col('estado_cp_split').getItem(F.col('numero_elementos_estado') - 1))\n",
    "\n",
    "df_procesado = df_procesado.withColumn('estado_cp_split_drop', F.expr(\"slice(estado_cp_split, 1, numero_elementos_estado-1)\"))\n",
    "df_procesado = df_procesado.withColumn('estado', F.concat_ws(' ', 'estado_cp_split_drop'))\n",
    "\n",
    "df_procesado = df_procesado.withColumn('direccion_split_drop', F.expr(\"slice(direccion_split, 1, numero_elementos-1)\"))\n",
    "df_procesado = df_procesado.withColumn('direccion_procesado', F.concat_ws(' ', 'direccion_split_drop'))"
   ]
  },
  {
   "cell_type": "code",
   "execution_count": 7,
   "metadata": {},
   "outputs": [
    {
     "data": {
      "text/plain": [
       "DataFrame[cliente_id: string, cliente: string, email: string, telefono: string, metodo_pago: string, numero_tarjeta: string, codigo_postal: string, estado: string, direccion: string]"
      ]
     },
     "execution_count": 7,
     "metadata": {},
     "output_type": "execute_result"
    }
   ],
   "source": [
    "df_direccion = df_procesado.drop(\n",
    "    'direccion_split',\n",
    "    'numero_elementos',\n",
    "    'estado_cp',\n",
    "    'estado_cp_split',\n",
    "    'numero_elementos_estado',\n",
    "    'estado_cp_split_drop',\n",
    "    'direccion_split_drop',\n",
    "    'direccion')\n",
    "\n",
    "df_direccion = df_direccion.withColumnRenamed('direccion_procesado', 'direccion')\n",
    "df_direccion.cache()"
   ]
  },
  {
   "cell_type": "code",
   "execution_count": 8,
   "metadata": {},
   "outputs": [
    {
     "name": "stdout",
     "output_type": "stream",
     "text": [
      "-RECORD 0----------------------------------------------------------------------------------\n",
      " cliente_id     | C-31ij                                                                   \n",
      " cliente        | Ilse Carolina Arguello Vargas                                            \n",
      " email          | rolvera@yahoo.com                                                        \n",
      " telefono       | 592.549.7283x41724                                                       \n",
      " metodo_pago    | tarjeta                                                                  \n",
      " numero_tarjeta | 3516303758383771                                                         \n",
      " codigo_postal  | 06497                                                                    \n",
      " estado         | OAX                                                                      \n",
      " direccion      | Pasaje Sur Hinojosa 546 Interior 968Vieja Myanmar                        \n",
      "-RECORD 1----------------------------------------------------------------------------------\n",
      " cliente_id     | C-95aQ                                                                   \n",
      " cliente        | Isaac Berta Espinosa Bustamante                                          \n",
      " email          | geronimo50@yahoo.com                                                     \n",
      " telefono       | +90(3)9021386651                                                         \n",
      " metodo_pago    | tarjeta                                                                  \n",
      " numero_tarjeta | 2226879089263405                                                         \n",
      " codigo_postal  | 44107                                                                    \n",
      " estado         | TAMPS                                                                    \n",
      " direccion      | Prolongacion Norte Guillen 815 833San Vicente de la Montaña              \n",
      "-RECORD 2----------------------------------------------------------------------------------\n",
      " cliente_id     | C-98oG                                                                   \n",
      " cliente        | Genaro Noelia Olivas Quiroz                                              \n",
      " email          | jorge02@yahoo.com                                                        \n",
      " telefono       | 08526507692                                                              \n",
      " metodo_pago    | tarjeta                                                                  \n",
      " numero_tarjeta | 2245122837899163                                                         \n",
      " codigo_postal  | 11015-7667                                                               \n",
      " estado         | MEX                                                                      \n",
      " direccion      | Avenida Norte Lozano 005 Edif. 213   Depto. 580San Pascual de la Montaña \n",
      "-RECORD 3----------------------------------------------------------------------------------\n",
      " cliente_id     | C-92AC                                                                   \n",
      " cliente        | Zeferino Hermelinda Cardenas                                             \n",
      " email          | riojasoctavio@yahoo.com                                                  \n",
      " telefono       | 072-731-3705                                                             \n",
      " metodo_pago    | tarjeta                                                                  \n",
      " numero_tarjeta | 377359909381316                                                          \n",
      " codigo_postal  | 36879                                                                    \n",
      " estado         | DGO                                                                      \n",
      " direccion      | Ampliacion Cortes 072 Edif. 362   Depto. 032Nueva Belarus                \n",
      "-RECORD 4----------------------------------------------------------------------------------\n",
      " cliente_id     | C-61Rz                                                                   \n",
      " cliente        | Judith Santiago Trejo                                                    \n",
      " email          | homerohernandes@yahoo.com                                                \n",
      " telefono       | (442)032-9738x877                                                        \n",
      " metodo_pago    | efectivo                                                                 \n",
      " numero_tarjeta | null                                                                     \n",
      " codigo_postal  | 75788-3053                                                               \n",
      " estado         | SIN                                                                      \n",
      " direccion      | Eje vial Republica Centroafricana 816 Interior 150San Gustavo los altos  \n",
      "only showing top 5 rows\n",
      "\n"
     ]
    }
   ],
   "source": [
    "df_direccion.show(n=5, vertical=True, truncate=False)"
   ]
  },
  {
   "cell_type": "markdown",
   "metadata": {},
   "source": [
    "### Almacenamiento"
   ]
  },
  {
   "cell_type": "code",
   "execution_count": 9,
   "metadata": {},
   "outputs": [],
   "source": [
    "nombre_destino = 'ecommerce/curated/detalle_cliente_direccion.parquet'"
   ]
  },
  {
   "cell_type": "code",
   "execution_count": 10,
   "metadata": {},
   "outputs": [],
   "source": [
    "df_direccion.write.mode('overwrite').parquet(dir_archivo+nombre_destino)"
   ]
  },
  {
   "cell_type": "markdown",
   "metadata": {},
   "source": [
    "#### Adicional"
   ]
  },
  {
   "cell_type": "code",
   "execution_count": 11,
   "metadata": {},
   "outputs": [],
   "source": [
    "df_filtrado = df_direccion.limit(10)"
   ]
  },
  {
   "cell_type": "code",
   "execution_count": 12,
   "metadata": {},
   "outputs": [
    {
     "name": "stdout",
     "output_type": "stream",
     "text": [
      "+----------+--------------------+--------------------+------------------+-----------+----------------+-------------+------+--------------------+\n",
      "|cliente_id|             cliente|               email|          telefono|metodo_pago|  numero_tarjeta|codigo_postal|estado|           direccion|\n",
      "+----------+--------------------+--------------------+------------------+-----------+----------------+-------------+------+--------------------+\n",
      "|    C-31ij|Ilse Carolina Arg...|   rolvera@yahoo.com|592.549.7283x41724|    tarjeta|3516303758383771|        06497|   OAX|Pasaje Sur Hinojo...|\n",
      "|    C-95aQ|Isaac Berta Espin...|geronimo50@yahoo.com|  +90(3)9021386651|    tarjeta|2226879089263405|        44107| TAMPS|Prolongacion Nort...|\n",
      "|    C-98oG|Genaro Noelia Oli...|   jorge02@yahoo.com|       08526507692|    tarjeta|2245122837899163|   11015-7667|   MEX|Avenida Norte Loz...|\n",
      "+----------+--------------------+--------------------+------------------+-----------+----------------+-------------+------+--------------------+\n",
      "only showing top 3 rows\n",
      "\n"
     ]
    }
   ],
   "source": [
    "df_filtrado.show(3)"
   ]
  },
  {
   "cell_type": "code",
   "execution_count": 13,
   "metadata": {},
   "outputs": [],
   "source": [
    "df_pandas = df_filtrado.toPandas()\n",
    "nombre_csv = \"output/detalle_cliente_direccion.csv\"\n",
    "df_pandas.to_csv(nombre_csv, index=False)"
   ]
  },
  {
   "cell_type": "markdown",
   "metadata": {},
   "source": [
    "### Unpersist"
   ]
  },
  {
   "cell_type": "code",
   "execution_count": 14,
   "metadata": {},
   "outputs": [
    {
     "data": {
      "text/plain": [
       "DataFrame[cliente_id: string, cliente: string, email: string, telefono: string, metodo_pago: string, numero_tarjeta: string, codigo_postal: string, estado: string, direccion: string]"
      ]
     },
     "execution_count": 14,
     "metadata": {},
     "output_type": "execute_result"
    }
   ],
   "source": [
    "df_direccion.unpersist()"
   ]
  }
 ],
 "metadata": {
  "kernelspec": {
   "display_name": "Python 3",
   "language": "python",
   "name": "python3"
  },
  "language_info": {
   "codemirror_mode": {
    "name": "ipython",
    "version": 3
   },
   "file_extension": ".py",
   "mimetype": "text/x-python",
   "name": "python",
   "nbconvert_exporter": "python",
   "pygments_lexer": "ipython3",
   "version": "3.7.6"
  }
 },
 "nbformat": 4,
 "nbformat_minor": 4
}
