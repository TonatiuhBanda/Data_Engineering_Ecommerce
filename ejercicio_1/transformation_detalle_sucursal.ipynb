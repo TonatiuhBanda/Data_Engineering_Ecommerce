{
 "cells": [
  {
   "cell_type": "code",
   "execution_count": 1,
   "metadata": {},
   "outputs": [],
   "source": [
    "from pyspark.sql import SparkSession\n",
    "from pyspark.context import SparkContext\n",
    "import pyspark.sql.functions as F\n",
    "from pyspark.sql.types import *"
   ]
  },
  {
   "cell_type": "code",
   "execution_count": 2,
   "metadata": {},
   "outputs": [],
   "source": [
    "sc = SparkContext.getOrCreate()\n",
    "spark = SparkSession(sc)"
   ]
  },
  {
   "cell_type": "markdown",
   "metadata": {},
   "source": [
    "### Tabla detalle sucursal"
   ]
  },
  {
   "cell_type": "code",
   "execution_count": 3,
   "metadata": {},
   "outputs": [],
   "source": [
    "dir_archivo = \"/home/tonatiuh/Documents/Desarrollo/ZophiaLearning/ejercicios/\"\n",
    "nombre_archivo = 'ecommerce/curated/detalle_sucursal.parquet'"
   ]
  },
  {
   "cell_type": "code",
   "execution_count": 4,
   "metadata": {},
   "outputs": [],
   "source": [
    "df = spark.read.format(\"parquet\")\\\n",
    "        .load(dir_archivo+nombre_archivo)"
   ]
  },
  {
   "cell_type": "code",
   "execution_count": 5,
   "metadata": {},
   "outputs": [
    {
     "name": "stdout",
     "output_type": "stream",
     "text": [
      "+--------+\n",
      "|sucursal|\n",
      "+--------+\n",
      "|AGS-SVu |\n",
      "|SON-aHW |\n",
      "|SLP-lxZ |\n",
      "|COL-ojJ |\n",
      "|VER-Bun |\n",
      "+--------+\n",
      "only showing top 5 rows\n",
      "\n"
     ]
    }
   ],
   "source": [
    "df.select('sucursal').show(n=5, truncate=False)"
   ]
  },
  {
   "cell_type": "markdown",
   "metadata": {},
   "source": [
    "#### Direccion"
   ]
  },
  {
   "cell_type": "code",
   "execution_count": 6,
   "metadata": {},
   "outputs": [],
   "source": [
    "df_procesado = df.withColumn('sucursal_split', F.split(F.col('sucursal'), '-'))\n",
    "df_procesado = df_procesado.withColumn('estado', F.col('sucursal_split').getItem(0))"
   ]
  },
  {
   "cell_type": "code",
   "execution_count": 7,
   "metadata": {},
   "outputs": [
    {
     "data": {
      "text/plain": [
       "DataFrame[sucursal_id: string, sucursal: string, direccion: string, telefono: string, estado: string]"
      ]
     },
     "execution_count": 7,
     "metadata": {},
     "output_type": "execute_result"
    }
   ],
   "source": [
    "df_estado = df_procesado.drop('sucursal_split')\n",
    "df_estado.cache()"
   ]
  },
  {
   "cell_type": "code",
   "execution_count": 8,
   "metadata": {},
   "outputs": [
    {
     "name": "stdout",
     "output_type": "stream",
     "text": [
      "-RECORD 0----------------------------------------------------\n",
      " sucursal_id | C-72pY                                        \n",
      " sucursal    | AGS-SVu                                       \n",
      " direccion   | Privada Norte Zelaya 134 328                  \n",
      " telefono    | +41(7)6995893084                              \n",
      " estado      | AGS                                           \n",
      "-RECORD 1----------------------------------------------------\n",
      " sucursal_id | C-41tT                                        \n",
      " sucursal    | SON-aHW                                       \n",
      " direccion   | Callejon Gutierrez 258 636                    \n",
      " telefono    | (553)445-2016x733                             \n",
      " estado      | SON                                           \n",
      "-RECORD 2----------------------------------------------------\n",
      " sucursal_id | C-59hj                                        \n",
      " sucursal    | SLP-lxZ                                       \n",
      " direccion   | Cerrada Sur Sanabria 605 805                  \n",
      " telefono    | (140)904-7730x56861                           \n",
      " estado      | SLP                                           \n",
      "-RECORD 3----------------------------------------------------\n",
      " sucursal_id | C-16ZQ                                        \n",
      " sucursal    | COL-ojJ                                       \n",
      " direccion   | Ampliacion Uruguay 419 Edif. 244 , Depto. 201 \n",
      " telefono    | 313-670-0643x191                              \n",
      " estado      | COL                                           \n",
      "-RECORD 4----------------------------------------------------\n",
      " sucursal_id | C-98qg                                        \n",
      " sucursal    | VER-Bun                                       \n",
      " direccion   | Andador Tamaulipas 688 990                    \n",
      " telefono    | +03(4)3041369348                              \n",
      " estado      | VER                                           \n",
      "only showing top 5 rows\n",
      "\n"
     ]
    }
   ],
   "source": [
    "df_estado.show(n=5, vertical=True, truncate=False)"
   ]
  },
  {
   "cell_type": "markdown",
   "metadata": {},
   "source": [
    "### Almacenamiento"
   ]
  },
  {
   "cell_type": "code",
   "execution_count": 9,
   "metadata": {},
   "outputs": [],
   "source": [
    "nombre_destino = 'ecommerce/curated/detalle_sucursal_estado.parquet'"
   ]
  },
  {
   "cell_type": "code",
   "execution_count": 10,
   "metadata": {},
   "outputs": [],
   "source": [
    "df_estado.write.mode('overwrite').parquet(dir_archivo+nombre_destino)"
   ]
  },
  {
   "cell_type": "markdown",
   "metadata": {},
   "source": [
    "#### Adicional"
   ]
  },
  {
   "cell_type": "code",
   "execution_count": 11,
   "metadata": {},
   "outputs": [],
   "source": [
    "df_filtrado = df_estado.limit(10)"
   ]
  },
  {
   "cell_type": "code",
   "execution_count": 12,
   "metadata": {},
   "outputs": [
    {
     "name": "stdout",
     "output_type": "stream",
     "text": [
      "+-----------+--------+--------------------+-------------------+------+\n",
      "|sucursal_id|sucursal|           direccion|           telefono|estado|\n",
      "+-----------+--------+--------------------+-------------------+------+\n",
      "|     C-72pY| AGS-SVu|Privada Norte Zel...|   +41(7)6995893084|   AGS|\n",
      "|     C-41tT| SON-aHW|Callejon Gutierre...|  (553)445-2016x733|   SON|\n",
      "|     C-59hj| SLP-lxZ|Cerrada Sur Sanab...|(140)904-7730x56861|   SLP|\n",
      "+-----------+--------+--------------------+-------------------+------+\n",
      "only showing top 3 rows\n",
      "\n"
     ]
    }
   ],
   "source": [
    "df_filtrado.show(3)"
   ]
  },
  {
   "cell_type": "code",
   "execution_count": 13,
   "metadata": {},
   "outputs": [],
   "source": [
    "df_pandas = df_filtrado.toPandas()\n",
    "nombre_csv = \"output/detalle_sucursal_estado.csv\"\n",
    "df_pandas.to_csv(nombre_csv, index=False)"
   ]
  },
  {
   "cell_type": "markdown",
   "metadata": {},
   "source": [
    "### Unpersist"
   ]
  },
  {
   "cell_type": "code",
   "execution_count": 14,
   "metadata": {},
   "outputs": [
    {
     "data": {
      "text/plain": [
       "DataFrame[sucursal_id: string, sucursal: string, direccion: string, telefono: string, estado: string]"
      ]
     },
     "execution_count": 14,
     "metadata": {},
     "output_type": "execute_result"
    }
   ],
   "source": [
    "df_estado.unpersist()"
   ]
  }
 ],
 "metadata": {
  "kernelspec": {
   "display_name": "Python 3",
   "language": "python",
   "name": "python3"
  },
  "language_info": {
   "codemirror_mode": {
    "name": "ipython",
    "version": 3
   },
   "file_extension": ".py",
   "mimetype": "text/x-python",
   "name": "python",
   "nbconvert_exporter": "python",
   "pygments_lexer": "ipython3",
   "version": "3.7.6"
  }
 },
 "nbformat": 4,
 "nbformat_minor": 4
}
