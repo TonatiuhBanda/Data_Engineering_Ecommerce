{
 "cells": [
  {
   "cell_type": "code",
   "execution_count": 1,
   "metadata": {},
   "outputs": [],
   "source": [
    "from pyspark.sql import SparkSession\n",
    "from pyspark.context import SparkContext\n",
    "import pyspark.sql.functions as F\n",
    "from pyspark.sql.types import *"
   ]
  },
  {
   "cell_type": "code",
   "execution_count": 2,
   "metadata": {},
   "outputs": [],
   "source": [
    "sc = SparkContext.getOrCreate()\n",
    "spark = SparkSession(sc)"
   ]
  },
  {
   "cell_type": "markdown",
   "metadata": {},
   "source": [
    "### Nombre archivos"
   ]
  },
  {
   "cell_type": "code",
   "execution_count": 3,
   "metadata": {},
   "outputs": [],
   "source": [
    "dir_archivo = \"/home/tonatiuh/Documents/Desarrollo/ZophiaLearning/ejercicios/\"\n",
    "dir_complemento = 'ecommerce/curated/'\n",
    "nombre_archivo = 'ordenes.parquet'"
   ]
  },
  {
   "cell_type": "markdown",
   "metadata": {},
   "source": [
    "#### Tabla ordenes"
   ]
  },
  {
   "cell_type": "code",
   "execution_count": 4,
   "metadata": {},
   "outputs": [],
   "source": [
    "nombre_archivo = f'{dir_archivo}{dir_complemento}{nombre_archivo}'\n",
    "df_ordenes = spark.read.format(\"parquet\")\\\n",
    "                .load(nombre_archivo)\n",
    "\n",
    "df_ordenes = df_ordenes.withColumn('precio', F.col('precio').cast(FloatType()))"
   ]
  },
  {
   "cell_type": "code",
   "execution_count": 5,
   "metadata": {},
   "outputs": [],
   "source": [
    "# df_ordenes.printSchema()"
   ]
  },
  {
   "cell_type": "markdown",
   "metadata": {},
   "source": [
    "### Agrupación"
   ]
  },
  {
   "cell_type": "code",
   "execution_count": 6,
   "metadata": {},
   "outputs": [
    {
     "data": {
      "text/plain": [
       "DataFrame[orden_id: string, numero_productos: int, total_venta: double, fecha_orden: string]"
      ]
     },
     "execution_count": 6,
     "metadata": {},
     "output_type": "execute_result"
    }
   ],
   "source": [
    "df_resumen = df_ordenes.groupby('orden_id', 'fecha_orden')\\\n",
    "                .agg(F.count('sku').alias('numero_productos'),\n",
    "                     F.sum('precio').alias('total_venta'))\n",
    "\n",
    "df_resumen = df_resumen.withColumn('numero_productos',\n",
    "                                   F.col('numero_productos').cast(IntegerType()))\n",
    "\n",
    "df_resumen = df_resumen.select('orden_id',\n",
    "                               'numero_productos',\n",
    "                               'total_venta',\n",
    "                               'fecha_orden')\n",
    "df_resumen.cache()"
   ]
  },
  {
   "cell_type": "code",
   "execution_count": 7,
   "metadata": {},
   "outputs": [
    {
     "name": "stdout",
     "output_type": "stream",
     "text": [
      "-RECORD 0------------------------------\n",
      " orden_id         | ORD53Jp2e2rXu      \n",
      " numero_productos | 6                  \n",
      " total_venta      | 16605.449951171875 \n",
      " fecha_orden      | 2021-10-12         \n",
      "-RECORD 1------------------------------\n",
      " orden_id         | ORD11Py3Q7XnQ      \n",
      " numero_productos | 5                  \n",
      " total_venta      | 15299.550170898438 \n",
      " fecha_orden      | 2019-08-15         \n",
      "-RECORD 2------------------------------\n",
      " orden_id         | ORD49kA5D3wvJ      \n",
      " numero_productos | 7                  \n",
      " total_venta      | 23530.689453125    \n",
      " fecha_orden      | 2009-06-08         \n",
      "only showing top 3 rows\n",
      "\n"
     ]
    }
   ],
   "source": [
    "df_resumen.show(n=3, vertical=True, truncate=False)"
   ]
  },
  {
   "cell_type": "code",
   "execution_count": 8,
   "metadata": {},
   "outputs": [],
   "source": [
    "# df_resumen.printSchema()"
   ]
  },
  {
   "cell_type": "markdown",
   "metadata": {},
   "source": [
    "### Almacenamiento"
   ]
  },
  {
   "cell_type": "code",
   "execution_count": 9,
   "metadata": {},
   "outputs": [],
   "source": [
    "nombre_destino = 'ecommerce/curated/ordenes_resumen.parquet'"
   ]
  },
  {
   "cell_type": "code",
   "execution_count": 10,
   "metadata": {},
   "outputs": [],
   "source": [
    "df_resumen.write.mode('overwrite').parquet(dir_archivo+nombre_destino)"
   ]
  },
  {
   "cell_type": "markdown",
   "metadata": {},
   "source": [
    "#### Adicional"
   ]
  },
  {
   "cell_type": "code",
   "execution_count": 11,
   "metadata": {},
   "outputs": [],
   "source": [
    "df_filtrado = df_resumen.limit(10)"
   ]
  },
  {
   "cell_type": "code",
   "execution_count": 12,
   "metadata": {},
   "outputs": [
    {
     "name": "stdout",
     "output_type": "stream",
     "text": [
      "-RECORD 0------------------------------\n",
      " orden_id         | ORD53Jp2e2rXu      \n",
      " numero_productos | 6                  \n",
      " total_venta      | 16605.449951171875 \n",
      " fecha_orden      | 2021-10-12         \n",
      "-RECORD 1------------------------------\n",
      " orden_id         | ORD11Py3Q7XnQ      \n",
      " numero_productos | 5                  \n",
      " total_venta      | 15299.550170898438 \n",
      " fecha_orden      | 2019-08-15         \n",
      "only showing top 2 rows\n",
      "\n"
     ]
    }
   ],
   "source": [
    "df_filtrado.show(n=2, vertical=True, truncate=False)"
   ]
  },
  {
   "cell_type": "code",
   "execution_count": 13,
   "metadata": {},
   "outputs": [],
   "source": [
    "df_pandas = df_filtrado.toPandas()\n",
    "nombre_csv = \"output/ordenes_resumen.csv\"\n",
    "df_pandas.to_csv(nombre_csv, index=False)"
   ]
  },
  {
   "cell_type": "markdown",
   "metadata": {},
   "source": [
    "### Unpersist"
   ]
  },
  {
   "cell_type": "code",
   "execution_count": 14,
   "metadata": {},
   "outputs": [
    {
     "data": {
      "text/plain": [
       "DataFrame[orden_id: string, numero_productos: int, total_venta: double, fecha_orden: string]"
      ]
     },
     "execution_count": 14,
     "metadata": {},
     "output_type": "execute_result"
    }
   ],
   "source": [
    "df_resumen.unpersist()"
   ]
  }
 ],
 "metadata": {
  "kernelspec": {
   "display_name": "Python 3",
   "language": "python",
   "name": "python3"
  },
  "language_info": {
   "codemirror_mode": {
    "name": "ipython",
    "version": 3
   },
   "file_extension": ".py",
   "mimetype": "text/x-python",
   "name": "python",
   "nbconvert_exporter": "python",
   "pygments_lexer": "ipython3",
   "version": "3.7.6"
  }
 },
 "nbformat": 4,
 "nbformat_minor": 4
}
