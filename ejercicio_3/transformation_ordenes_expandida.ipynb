{
 "cells": [
  {
   "cell_type": "code",
   "execution_count": 1,
   "metadata": {},
   "outputs": [],
   "source": [
    "from pyspark.sql import SparkSession\n",
    "from pyspark.context import SparkContext\n",
    "import pyspark.sql.functions as F\n",
    "from pyspark.sql.types import *"
   ]
  },
  {
   "cell_type": "code",
   "execution_count": 2,
   "metadata": {},
   "outputs": [],
   "source": [
    "sc = SparkContext.getOrCreate()\n",
    "spark = SparkSession(sc)"
   ]
  },
  {
   "cell_type": "markdown",
   "metadata": {},
   "source": [
    "### Nombre archivos"
   ]
  },
  {
   "cell_type": "code",
   "execution_count": 3,
   "metadata": {},
   "outputs": [],
   "source": [
    "dir_archivo = \"/home/tonatiuh/Documents/Desarrollo/ZophiaLearning/ejercicios/\"\n",
    "dir_complemento = 'ecommerce/curated/'\n",
    "nombre_archivos = ['detalle_categoria.parquet',\n",
    "                   'detalle_cliente_direccion.parquet',\n",
    "                   'detalle_productos.parquet',\n",
    "                   'detalle_sucursal_estado.parquet',\n",
    "                   'ordenes.parquet',\n",
    "                   'productos.parquet']"
   ]
  },
  {
   "cell_type": "markdown",
   "metadata": {},
   "source": [
    "#### Tabla ordenes"
   ]
  },
  {
   "cell_type": "code",
   "execution_count": 4,
   "metadata": {},
   "outputs": [],
   "source": [
    "nombre_archivo = f'{dir_archivo}{dir_complemento}{nombre_archivos[4]}'\n",
    "df_ordenes = spark.read.format(\"parquet\")\\\n",
    "                .load(nombre_archivo)\n",
    "\n",
    "df_ordenes = df_ordenes.withColumn('cantidad', F.col('cantidad').cast(IntegerType()))\n",
    "df_ordenes = df_ordenes.withColumn('precio', F.col('precio').cast(FloatType()))"
   ]
  },
  {
   "cell_type": "code",
   "execution_count": 5,
   "metadata": {},
   "outputs": [],
   "source": [
    "# df_ordenes.printSchema()"
   ]
  },
  {
   "cell_type": "markdown",
   "metadata": {},
   "source": [
    "#### Tabla detalle_sucursal"
   ]
  },
  {
   "cell_type": "code",
   "execution_count": 6,
   "metadata": {},
   "outputs": [],
   "source": [
    "nombre_archivo = f'{dir_archivo}{dir_complemento}{nombre_archivos[3]}'\n",
    "df_dt_sucursal = spark.read.format(\"parquet\")\\\n",
    "                .load(nombre_archivo)\n",
    "\n",
    "df_dt_sucursal = df_dt_sucursal.withColumnRenamed('direccion', 'sucursal_direccion')\n",
    "df_dt_sucursal = df_dt_sucursal.withColumnRenamed('estado', 'sucursal_estado')\n",
    "df_dt_sucursal = df_dt_sucursal.withColumnRenamed('telefono', 'sucursal_telefono')"
   ]
  },
  {
   "cell_type": "code",
   "execution_count": 7,
   "metadata": {},
   "outputs": [],
   "source": [
    "# df_dt_sucursal.printSchema()"
   ]
  },
  {
   "cell_type": "markdown",
   "metadata": {},
   "source": [
    "#### Tabla detalle_cliente"
   ]
  },
  {
   "cell_type": "code",
   "execution_count": 8,
   "metadata": {},
   "outputs": [],
   "source": [
    "nombre_archivo = f'{dir_archivo}{dir_complemento}{nombre_archivos[1]}'\n",
    "df_dt_cliente = spark.read.format(\"parquet\")\\\n",
    "                .load(nombre_archivo)\n",
    "\n",
    "df_dt_cliente = df_dt_cliente.withColumnRenamed('direccion', 'cliente_direccion')\n",
    "df_dt_cliente = df_dt_cliente.withColumnRenamed('estado', 'cliente_estado')\n",
    "df_dt_cliente = df_dt_cliente.withColumnRenamed('codigo_postal', 'cliente_cp')\n",
    "df_dt_cliente = df_dt_cliente.withColumnRenamed('telefono', 'cliente_telefono')"
   ]
  },
  {
   "cell_type": "code",
   "execution_count": 9,
   "metadata": {},
   "outputs": [],
   "source": [
    "# df_dt_cliente.printSchema()"
   ]
  },
  {
   "cell_type": "markdown",
   "metadata": {},
   "source": [
    "#### Tabla productos"
   ]
  },
  {
   "cell_type": "code",
   "execution_count": 10,
   "metadata": {},
   "outputs": [],
   "source": [
    "nombre_archivo = f'{dir_archivo}{dir_complemento}{nombre_archivos[5]}'\n",
    "df_productos = spark.read.format(\"parquet\")\\\n",
    "                .load(nombre_archivo)\n",
    "\n",
    "df_productos = df_productos.withColumn('stock', F.col('stock').cast(IntegerType()))\n",
    "df_productos = df_productos.withColumn('precio_escala', F.col('precio').cast(FloatType()))\n",
    "\n",
    "df_productos = df_productos.withColumn('escala_split', F.split(F.col('escala'), '-'))\n",
    "df_productos = df_productos.withColumn('escala_min', F.col('escala_split').getItem(0))\n",
    "df_productos = df_productos.withColumn('escala_min', F.trim(F.col('escala_min')).cast(IntegerType()))\n",
    "df_productos = df_productos.withColumn('escala_max', F.col('escala_split').getItem(1))\n",
    "df_productos = df_productos.withColumn('escala_max', F.trim(F.col('escala_max')).cast(IntegerType()))\n",
    "\n",
    "df_productos = df_productos.select('sku',\n",
    "                                   'nombre',\n",
    "                                   'escala',\n",
    "                                   'escala_min',\n",
    "                                   'escala_max',\n",
    "                                   'precio_escala',\n",
    "                                   'categoria_id',\n",
    "                                   'stock')"
   ]
  },
  {
   "cell_type": "code",
   "execution_count": 11,
   "metadata": {},
   "outputs": [],
   "source": [
    "# df_productos.printSchema()"
   ]
  },
  {
   "cell_type": "markdown",
   "metadata": {},
   "source": [
    "#### Tabla detalle_productos"
   ]
  },
  {
   "cell_type": "code",
   "execution_count": 12,
   "metadata": {},
   "outputs": [],
   "source": [
    "nombre_archivo = f'{dir_archivo}{dir_complemento}{nombre_archivos[2]}'\n",
    "df_dt_productos = spark.read.format(\"parquet\")\\\n",
    "                    .load(nombre_archivo)\n",
    "\n",
    "df_dt_productos = df_dt_productos.withColumn('year', F.col('year').cast(IntegerType()))"
   ]
  },
  {
   "cell_type": "code",
   "execution_count": 13,
   "metadata": {},
   "outputs": [],
   "source": [
    "# df_dt_productos.printSchema()"
   ]
  },
  {
   "cell_type": "markdown",
   "metadata": {},
   "source": [
    "#### Tabla detalle_categoria"
   ]
  },
  {
   "cell_type": "code",
   "execution_count": 14,
   "metadata": {},
   "outputs": [],
   "source": [
    "nombre_archivo = f'{dir_archivo}{dir_complemento}{nombre_archivos[0]}'\n",
    "df_dt_categoria = spark.read.format(\"parquet\")\\\n",
    "                    .load(nombre_archivo)"
   ]
  },
  {
   "cell_type": "code",
   "execution_count": 15,
   "metadata": {},
   "outputs": [],
   "source": [
    "# df_dt_categoria.printSchema()"
   ]
  },
  {
   "cell_type": "markdown",
   "metadata": {},
   "source": [
    "### Cruce de tablas"
   ]
  },
  {
   "cell_type": "code",
   "execution_count": 16,
   "metadata": {},
   "outputs": [
    {
     "data": {
      "text/plain": [
       "DataFrame[orden_id: string, sucursal_id: string, cliente_id: string, sku: string, cantidad: int, precio: float, fecha_orden: string, fecha_envio: string, fecha_entrega: string, sucursal: string, sucursal_direccion: string, sucursal_estado: string, sucursal_telefono: string, cliente: string, cliente_direccion: string, cliente_estado: string, cliente_cp: string, email: string, cliente_telefono: string, metodo_pago: string, numero_tarjeta: string, nombre: string, escala: string, escala_min: int, escala_max: int, precio_escala: float, categoria_id: string, stock: int, marca: string, modelo: string, year: int, categoria: string]"
      ]
     },
     "execution_count": 16,
     "metadata": {},
     "output_type": "execute_result"
    }
   ],
   "source": [
    "df_od_dts = df_ordenes.join(df_dt_sucursal, how='left', on=['sucursal_id'])\n",
    "df_od_dtc = df_od_dts.join(df_dt_cliente, how='left', on=['cliente_id'])\n",
    "df_od_pd = df_od_dtc.join(df_productos, how='left', on=['sku'])\n",
    "df_od_dtp = df_od_pd.join(df_dt_productos, how='left', on=['sku'])\n",
    "df_ordenes_expandida = df_od_dtp.join(df_dt_categoria, how='left', on=['categoria_id'])\n",
    "df_ordenes_expandida = df_ordenes_expandida.select(\n",
    "    'orden_id',\n",
    "    'sucursal_id',\n",
    "    'cliente_id',\n",
    "    'sku',\n",
    "    'cantidad',\n",
    "    'precio',\n",
    "    'fecha_orden',\n",
    "    'fecha_envio',\n",
    "    'fecha_entrega',\n",
    "    'sucursal',\n",
    "    'sucursal_direccion',\n",
    "    'sucursal_estado',\n",
    "    'sucursal_telefono',\n",
    "    'cliente',\n",
    "    'cliente_direccion',\n",
    "    'cliente_estado',\n",
    "    'cliente_cp',\n",
    "    'email',\n",
    "    'cliente_telefono',\n",
    "    'metodo_pago',\n",
    "    'numero_tarjeta',\n",
    "    'nombre',\n",
    "    'escala',\n",
    "    'escala_min',\n",
    "    'escala_max',\n",
    "    'precio_escala',\n",
    "    'categoria_id',\n",
    "    'stock',\n",
    "    'marca',\n",
    "    'modelo',\n",
    "    'year',\n",
    "    'categoria')\n",
    "df_ordenes_expandida.cache()"
   ]
  },
  {
   "cell_type": "code",
   "execution_count": 17,
   "metadata": {},
   "outputs": [],
   "source": [
    "# df_ordenes_expandida.printSchema()"
   ]
  },
  {
   "cell_type": "code",
   "execution_count": 18,
   "metadata": {},
   "outputs": [
    {
     "name": "stdout",
     "output_type": "stream",
     "text": [
      "-RECORD 0--------------------------------------------------------------\n",
      " orden_id           | ORD99lA8w0xMR                                    \n",
      " sucursal_id        | C-50PO                                           \n",
      " cliente_id         | C-05fD                                           \n",
      " sku                | i181F9                                           \n",
      " cantidad           | 72                                               \n",
      " precio             | 4520.84                                          \n",
      " fecha_orden        | 2017-03-03                                       \n",
      " fecha_envio        | 2017-03-06                                       \n",
      " fecha_entrega      | 2017-03-05                                       \n",
      " sucursal           | MOR-FNQ                                          \n",
      " sucursal_direccion | Retorno Baja California 468 Interior 776         \n",
      " sucursal_estado    | MOR                                              \n",
      " sucursal_telefono  | (883)475-5929x530                                \n",
      " cliente            | Elisa Isabela Rivas Otero                        \n",
      " cliente_direccion  | Corredor Chihuahua 594 Interior 939Nueva Ecuador \n",
      " cliente_estado     | QRO                                              \n",
      " cliente_cp         | 03766-5827                                       \n",
      " email              | antoniosolano@hotmail.com                        \n",
      " cliente_telefono   | 1-435-541-6818x6342                              \n",
      " metodo_pago        | tarjeta                                          \n",
      " numero_tarjeta     | 6510251134697068                                 \n",
      " nombre             | Convertidor catalitico                           \n",
      " escala             | 51 - 75                                          \n",
      " escala_min         | 51                                               \n",
      " escala_max         | 75                                               \n",
      " precio_escala      | 4520.84                                          \n",
      " categoria_id       | p-63G                                            \n",
      " stock              | 5528                                             \n",
      " marca              | Audi                                             \n",
      " modelo             | Sephia                                           \n",
      " year               | 2008                                             \n",
      " categoria          | Coupe, Sedan                                     \n",
      "-RECORD 1--------------------------------------------------------------\n",
      " orden_id           | ORD99lA8w0xMR                                    \n",
      " sucursal_id        | C-50PO                                           \n",
      " cliente_id         | C-05fD                                           \n",
      " sku                | i181F9                                           \n",
      " cantidad           | 72                                               \n",
      " precio             | 4520.84                                          \n",
      " fecha_orden        | 2017-03-03                                       \n",
      " fecha_envio        | 2017-03-06                                       \n",
      " fecha_entrega      | 2017-03-05                                       \n",
      " sucursal           | MOR-FNQ                                          \n",
      " sucursal_direccion | Retorno Baja California 468 Interior 776         \n",
      " sucursal_estado    | MOR                                              \n",
      " sucursal_telefono  | (883)475-5929x530                                \n",
      " cliente            | Elisa Isabela Rivas Otero                        \n",
      " cliente_direccion  | Corredor Chihuahua 594 Interior 939Nueva Ecuador \n",
      " cliente_estado     | QRO                                              \n",
      " cliente_cp         | 03766-5827                                       \n",
      " email              | antoniosolano@hotmail.com                        \n",
      " cliente_telefono   | 1-435-541-6818x6342                              \n",
      " metodo_pago        | tarjeta                                          \n",
      " numero_tarjeta     | 6510251134697068                                 \n",
      " nombre             | Convertidor catalitico                           \n",
      " escala             | 26 - 50                                          \n",
      " escala_min         | 26                                               \n",
      " escala_max         | 50                                               \n",
      " precio_escala      | 4786.77                                          \n",
      " categoria_id       | p-63G                                            \n",
      " stock              | 5528                                             \n",
      " marca              | Audi                                             \n",
      " modelo             | Sephia                                           \n",
      " year               | 2008                                             \n",
      " categoria          | Coupe, Sedan                                     \n",
      "only showing top 2 rows\n",
      "\n"
     ]
    }
   ],
   "source": [
    "df_ordenes_expandida.show(n=2, vertical=True, truncate=False)"
   ]
  },
  {
   "cell_type": "markdown",
   "metadata": {},
   "source": [
    "### Almacenamiento"
   ]
  },
  {
   "cell_type": "code",
   "execution_count": 19,
   "metadata": {},
   "outputs": [],
   "source": [
    "nombre_destino = 'ecommerce/curated/ordenes_expandida.parquet'"
   ]
  },
  {
   "cell_type": "code",
   "execution_count": 20,
   "metadata": {},
   "outputs": [],
   "source": [
    "df_ordenes_expandida.write.mode('overwrite').parquet(dir_archivo+nombre_destino)"
   ]
  },
  {
   "cell_type": "markdown",
   "metadata": {},
   "source": [
    "#### Adicional"
   ]
  },
  {
   "cell_type": "code",
   "execution_count": 21,
   "metadata": {},
   "outputs": [],
   "source": [
    "df_filtrado = df_ordenes_expandida.limit(10)"
   ]
  },
  {
   "cell_type": "code",
   "execution_count": 22,
   "metadata": {},
   "outputs": [
    {
     "name": "stdout",
     "output_type": "stream",
     "text": [
      "-RECORD 0--------------------------------------------------------------\n",
      " orden_id           | ORD99lA8w0xMR                                    \n",
      " sucursal_id        | C-50PO                                           \n",
      " cliente_id         | C-05fD                                           \n",
      " sku                | i181F9                                           \n",
      " cantidad           | 72                                               \n",
      " precio             | 4520.84                                          \n",
      " fecha_orden        | 2017-03-03                                       \n",
      " fecha_envio        | 2017-03-06                                       \n",
      " fecha_entrega      | 2017-03-05                                       \n",
      " sucursal           | MOR-FNQ                                          \n",
      " sucursal_direccion | Retorno Baja California 468 Interior 776         \n",
      " sucursal_estado    | MOR                                              \n",
      " sucursal_telefono  | (883)475-5929x530                                \n",
      " cliente            | Elisa Isabela Rivas Otero                        \n",
      " cliente_direccion  | Corredor Chihuahua 594 Interior 939Nueva Ecuador \n",
      " cliente_estado     | QRO                                              \n",
      " cliente_cp         | 03766-5827                                       \n",
      " email              | antoniosolano@hotmail.com                        \n",
      " cliente_telefono   | 1-435-541-6818x6342                              \n",
      " metodo_pago        | tarjeta                                          \n",
      " numero_tarjeta     | 6510251134697068                                 \n",
      " nombre             | Convertidor catalitico                           \n",
      " escala             | 51 - 75                                          \n",
      " escala_min         | 51                                               \n",
      " escala_max         | 75                                               \n",
      " precio_escala      | 4520.84                                          \n",
      " categoria_id       | p-63G                                            \n",
      " stock              | 5528                                             \n",
      " marca              | Audi                                             \n",
      " modelo             | Sephia                                           \n",
      " year               | 2008                                             \n",
      " categoria          | Coupe, Sedan                                     \n",
      "-RECORD 1--------------------------------------------------------------\n",
      " orden_id           | ORD99lA8w0xMR                                    \n",
      " sucursal_id        | C-50PO                                           \n",
      " cliente_id         | C-05fD                                           \n",
      " sku                | i181F9                                           \n",
      " cantidad           | 72                                               \n",
      " precio             | 4520.84                                          \n",
      " fecha_orden        | 2017-03-03                                       \n",
      " fecha_envio        | 2017-03-06                                       \n",
      " fecha_entrega      | 2017-03-05                                       \n",
      " sucursal           | MOR-FNQ                                          \n",
      " sucursal_direccion | Retorno Baja California 468 Interior 776         \n",
      " sucursal_estado    | MOR                                              \n",
      " sucursal_telefono  | (883)475-5929x530                                \n",
      " cliente            | Elisa Isabela Rivas Otero                        \n",
      " cliente_direccion  | Corredor Chihuahua 594 Interior 939Nueva Ecuador \n",
      " cliente_estado     | QRO                                              \n",
      " cliente_cp         | 03766-5827                                       \n",
      " email              | antoniosolano@hotmail.com                        \n",
      " cliente_telefono   | 1-435-541-6818x6342                              \n",
      " metodo_pago        | tarjeta                                          \n",
      " numero_tarjeta     | 6510251134697068                                 \n",
      " nombre             | Convertidor catalitico                           \n",
      " escala             | 26 - 50                                          \n",
      " escala_min         | 26                                               \n",
      " escala_max         | 50                                               \n",
      " precio_escala      | 4786.77                                          \n",
      " categoria_id       | p-63G                                            \n",
      " stock              | 5528                                             \n",
      " marca              | Audi                                             \n",
      " modelo             | Sephia                                           \n",
      " year               | 2008                                             \n",
      " categoria          | Coupe, Sedan                                     \n",
      "only showing top 2 rows\n",
      "\n"
     ]
    }
   ],
   "source": [
    "df_filtrado.show(n=2, vertical=True, truncate=False)"
   ]
  },
  {
   "cell_type": "code",
   "execution_count": 23,
   "metadata": {},
   "outputs": [],
   "source": [
    "df_pandas = df_filtrado.toPandas()\n",
    "nombre_csv = \"output/ordenes_expandida.csv\"\n",
    "df_pandas.to_csv(nombre_csv, index=False)"
   ]
  },
  {
   "cell_type": "markdown",
   "metadata": {},
   "source": [
    "### Unpersist"
   ]
  },
  {
   "cell_type": "code",
   "execution_count": 24,
   "metadata": {},
   "outputs": [
    {
     "data": {
      "text/plain": [
       "DataFrame[orden_id: string, sucursal_id: string, cliente_id: string, sku: string, cantidad: int, precio: float, fecha_orden: string, fecha_envio: string, fecha_entrega: string, sucursal: string, sucursal_direccion: string, sucursal_estado: string, sucursal_telefono: string, cliente: string, cliente_direccion: string, cliente_estado: string, cliente_cp: string, email: string, cliente_telefono: string, metodo_pago: string, numero_tarjeta: string, nombre: string, escala: string, escala_min: int, escala_max: int, precio_escala: float, categoria_id: string, stock: int, marca: string, modelo: string, year: int, categoria: string]"
      ]
     },
     "execution_count": 24,
     "metadata": {},
     "output_type": "execute_result"
    }
   ],
   "source": [
    "df_ordenes_expandida.unpersist()"
   ]
  }
 ],
 "metadata": {
  "kernelspec": {
   "display_name": "Python 3",
   "language": "python",
   "name": "python3"
  },
  "language_info": {
   "codemirror_mode": {
    "name": "ipython",
    "version": 3
   },
   "file_extension": ".py",
   "mimetype": "text/x-python",
   "name": "python",
   "nbconvert_exporter": "python",
   "pygments_lexer": "ipython3",
   "version": "3.7.6"
  }
 },
 "nbformat": 4,
 "nbformat_minor": 4
}
