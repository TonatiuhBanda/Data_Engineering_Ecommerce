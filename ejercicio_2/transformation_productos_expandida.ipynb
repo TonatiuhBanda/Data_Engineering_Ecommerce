{
 "cells": [
  {
   "cell_type": "code",
   "execution_count": 1,
   "metadata": {},
   "outputs": [],
   "source": [
    "from pyspark.sql import SparkSession\n",
    "from pyspark.context import SparkContext\n",
    "import pyspark.sql.functions as F\n",
    "from pyspark.sql.types import *"
   ]
  },
  {
   "cell_type": "code",
   "execution_count": 2,
   "metadata": {},
   "outputs": [],
   "source": [
    "sc = SparkContext.getOrCreate()\n",
    "spark = SparkSession(sc)"
   ]
  },
  {
   "cell_type": "markdown",
   "metadata": {},
   "source": [
    "### Nombre archivos"
   ]
  },
  {
   "cell_type": "code",
   "execution_count": 3,
   "metadata": {},
   "outputs": [],
   "source": [
    "dir_archivo = \"/home/tonatiuh/Documents/Desarrollo/ZophiaLearning/ejercicios/\"\n",
    "dir_complemento = 'ecommerce/curated/'\n",
    "nombre_archivos = ['productos.parquet',\n",
    "                   'detalle_productos.parquet',\n",
    "                   'detalle_categoria.parquet']"
   ]
  },
  {
   "cell_type": "markdown",
   "metadata": {},
   "source": [
    "#### Tabla productos"
   ]
  },
  {
   "cell_type": "code",
   "execution_count": 4,
   "metadata": {},
   "outputs": [],
   "source": [
    "nombre_archivo = f'{dir_archivo}{dir_complemento}{nombre_archivos[0]}'\n",
    "df_productos = spark.read.format(\"parquet\")\\\n",
    "                .load(nombre_archivo)\n",
    "\n",
    "df_productos = df_productos.select('sku', 'escala', 'categoria_id', 'stock')\n",
    "df_productos = df_productos.withColumn('stock', F.col('stock').cast(IntegerType()))\n",
    "\n",
    "\n",
    "df_productos = df_productos.withColumn('escala_split', F.split(F.col('escala'), '-'))\n",
    "\n",
    "df_productos = df_productos.withColumn('escala_min', F.col('escala_split').getItem(0))\n",
    "df_productos = df_productos.withColumn('escala_min', F.trim(F.col('escala_min')).cast(IntegerType()))\n",
    "\n",
    "df_productos = df_productos.withColumn('escala_max', F.col('escala_split').getItem(1))\n",
    "df_productos = df_productos.withColumn('escala_max', F.trim(F.col('escala_max')).cast(IntegerType()))\n",
    "\n",
    "df_productos = df_productos.select('sku', 'escala', 'categoria_id',\n",
    "                                   'stock', 'escala_max', 'escala_min')"
   ]
  },
  {
   "cell_type": "code",
   "execution_count": 5,
   "metadata": {},
   "outputs": [],
   "source": [
    "# df_productos.printSchema()"
   ]
  },
  {
   "cell_type": "markdown",
   "metadata": {},
   "source": [
    "#### Tabla detalle_productos"
   ]
  },
  {
   "cell_type": "code",
   "execution_count": 6,
   "metadata": {},
   "outputs": [],
   "source": [
    "nombre_archivo = f'{dir_archivo}{dir_complemento}{nombre_archivos[1]}'\n",
    "df_dt_productos = spark.read.format(\"parquet\")\\\n",
    "                    .load(nombre_archivo)\n",
    "\n",
    "df_dt_productos = df_dt_productos.withColumn('year', F.col('year').cast(IntegerType()))\n",
    "df_dt_productos = df_dt_productos.select('sku', 'marca', 'modelo', 'year')"
   ]
  },
  {
   "cell_type": "code",
   "execution_count": 7,
   "metadata": {},
   "outputs": [],
   "source": [
    "# df_dt_productos.printSchema()"
   ]
  },
  {
   "cell_type": "markdown",
   "metadata": {},
   "source": [
    "#### Tabla detalle_categoria"
   ]
  },
  {
   "cell_type": "code",
   "execution_count": 8,
   "metadata": {},
   "outputs": [],
   "source": [
    "nombre_archivo = f'{dir_archivo}{dir_complemento}{nombre_archivos[2]}'\n",
    "df_dt_categoria = spark.read.format(\"parquet\")\\\n",
    "                    .load(nombre_archivo)"
   ]
  },
  {
   "cell_type": "code",
   "execution_count": 9,
   "metadata": {},
   "outputs": [],
   "source": [
    "# df_dt_categoria.printSchema()"
   ]
  },
  {
   "cell_type": "markdown",
   "metadata": {},
   "source": [
    "### Cruce de tablas"
   ]
  },
  {
   "cell_type": "code",
   "execution_count": 10,
   "metadata": {},
   "outputs": [
    {
     "data": {
      "text/plain": [
       "DataFrame[sku: string, marca: string, modelo: string, year: int, escala: string, escala_min: int, escala_max: int, categoria_id: string, categoria: string, stock: int]"
      ]
     },
     "execution_count": 10,
     "metadata": {},
     "output_type": "execute_result"
    }
   ],
   "source": [
    "df_intermedio = df_productos.join(df_dt_productos, how='full', on=['sku'])\n",
    "df_productos_expandida = df_intermedio.join(df_dt_categoria, how='full', on=['categoria_id'])\n",
    "df_productos_expandida = df_productos_expandida.select(\n",
    "    'sku',\n",
    "    'marca',\n",
    "    'modelo',\n",
    "    'year',\n",
    "    'escala',\n",
    "    'escala_min',\n",
    "    'escala_max',\n",
    "    'categoria_id',\n",
    "    'categoria',\n",
    "    'stock')\n",
    "df_productos_expandida.cache()"
   ]
  },
  {
   "cell_type": "code",
   "execution_count": 11,
   "metadata": {},
   "outputs": [],
   "source": [
    "# df_productos_expandida.printSchema()"
   ]
  },
  {
   "cell_type": "markdown",
   "metadata": {},
   "source": [
    "### Almacenamiento"
   ]
  },
  {
   "cell_type": "code",
   "execution_count": 12,
   "metadata": {},
   "outputs": [],
   "source": [
    "nombre_destino = 'ecommerce/curated/productos_expandida.parquet'"
   ]
  },
  {
   "cell_type": "code",
   "execution_count": 13,
   "metadata": {},
   "outputs": [],
   "source": [
    "df_productos_expandida.write.mode('overwrite').parquet(dir_archivo+nombre_destino)"
   ]
  },
  {
   "cell_type": "markdown",
   "metadata": {},
   "source": [
    "#### Adicional"
   ]
  },
  {
   "cell_type": "code",
   "execution_count": 14,
   "metadata": {},
   "outputs": [],
   "source": [
    "df_filtrado = df_productos_expandida.limit(10)"
   ]
  },
  {
   "cell_type": "code",
   "execution_count": 15,
   "metadata": {},
   "outputs": [
    {
     "name": "stdout",
     "output_type": "stream",
     "text": [
      "+------+-----+---------------+----+-------+----------+----------+------------+------------+-----+\n",
      "|   sku|marca|         modelo|year| escala|escala_min|escala_max|categoria_id|   categoria|stock|\n",
      "+------+-----+---------------+----+-------+----------+----------+------------+------------+-----+\n",
      "|i480i2| Ford|S10 Regular Cab|1997| 1 - 25|         1|        25|       p-63G|Coupe, Sedan| 3289|\n",
      "|i480i2| Ford|S10 Regular Cab|1997|26 - 50|        26|        50|       p-63G|Coupe, Sedan| 3289|\n",
      "|i480i2| Ford|S10 Regular Cab|1997|51 - 75|        51|        75|       p-63G|Coupe, Sedan| 3289|\n",
      "+------+-----+---------------+----+-------+----------+----------+------------+------------+-----+\n",
      "only showing top 3 rows\n",
      "\n"
     ]
    }
   ],
   "source": [
    "df_filtrado.show(3)"
   ]
  },
  {
   "cell_type": "code",
   "execution_count": 16,
   "metadata": {},
   "outputs": [],
   "source": [
    "df_pandas = df_filtrado.toPandas()\n",
    "nombre_csv = \"output/productos_expandida.csv\"\n",
    "df_pandas.to_csv(nombre_csv, index=False)"
   ]
  },
  {
   "cell_type": "markdown",
   "metadata": {},
   "source": [
    "### Unpersist"
   ]
  },
  {
   "cell_type": "code",
   "execution_count": 17,
   "metadata": {},
   "outputs": [
    {
     "data": {
      "text/plain": [
       "DataFrame[sku: string, marca: string, modelo: string, year: int, escala: string, escala_min: int, escala_max: int, categoria_id: string, categoria: string, stock: int]"
      ]
     },
     "execution_count": 17,
     "metadata": {},
     "output_type": "execute_result"
    }
   ],
   "source": [
    "df_productos_expandida.unpersist()"
   ]
  }
 ],
 "metadata": {
  "kernelspec": {
   "display_name": "Python 3",
   "language": "python",
   "name": "python3"
  },
  "language_info": {
   "codemirror_mode": {
    "name": "ipython",
    "version": 3
   },
   "file_extension": ".py",
   "mimetype": "text/x-python",
   "name": "python",
   "nbconvert_exporter": "python",
   "pygments_lexer": "ipython3",
   "version": "3.7.6"
  }
 },
 "nbformat": 4,
 "nbformat_minor": 4
}
